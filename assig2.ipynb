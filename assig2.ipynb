{
 "cells": [
  {
   "cell_type": "code",
   "execution_count": 1,
   "id": "376ea696-5331-4387-bf32-8018ce5bebbc",
   "metadata": {},
   "outputs": [],
   "source": [
    "#Q1.write a program to accept percentage from the user and display grade according to the following  criteria:\n"
   ]
  },
  {
   "cell_type": "code",
   "execution_count": 13,
   "id": "762e9976-347f-4e30-add1-d79c130442d5",
   "metadata": {},
   "outputs": [
    {
     "name": "stdin",
     "output_type": "stream",
     "text": [
      "enter your marks 90\n"
     ]
    },
    {
     "name": "stdout",
     "output_type": "stream",
     "text": [
      "you will be a part of B grade\n"
     ]
    }
   ],
   "source": [
    "marks = int(input(\"enter your marks\"))\n",
    "if marks >90:\n",
    "    print(\"you will be a part of A grade\")\n",
    "elif marks>80 and marks<=90:\n",
    "    print(\"you will be a part of B grade\")\n",
    "elif marks >=60 and marks <80:\n",
    "    printf(\"you will be a part of C grade\")\n",
    "elif marks <60:\n",
    "    print(\"you will be a part of D grade\")\n",
    "\n"
   ]
  },
  {
   "cell_type": "code",
   "execution_count": 14,
   "id": "f92ff9f2-29b7-428b-84e3-ca5e4f499a39",
   "metadata": {},
   "outputs": [],
   "source": [
    "#Q2.write a program to accept the cost price of a bike and diplay the road tax to be paid acccording to the \n",
    "# following criteria:"
   ]
  },
  {
   "cell_type": "code",
   "execution_count": 21,
   "id": "c08e7b01-d24e-4e30-964d-69270ef29066",
   "metadata": {},
   "outputs": [
    {
     "name": "stdin",
     "output_type": "stream",
     "text": [
      "enter youe bike price 50000\n"
     ]
    },
    {
     "name": "stdout",
     "output_type": "stream",
     "text": [
      "2500.0\n"
     ]
    }
   ],
   "source": [
    "cost_price = int(input(\"enter youe bike price\"))\n",
    "Tax_paid=1\n",
    "if cost_price>100000:\n",
    "    Tax_paid=cost_price*0.15\n",
    "    print(Tax_paid )\n",
    "elif cost_price>50000 and cost_price<=100000:\n",
    "    Tax_paid=cost_price*0.10\n",
    "    print(Tax_paid )\n",
    "elif cost_price<=50000:\n",
    "    Tax_paid=cost_price*0.05\n",
    "    print( Tax_paid)\n",
    "    "
   ]
  },
  {
   "cell_type": "code",
   "execution_count": 22,
   "id": "1ff97022-1ab8-4f4b-ae79-fff7132f3667",
   "metadata": {},
   "outputs": [
    {
     "name": "stdin",
     "output_type": "stream",
     "text": [
      "enter your city name Delhi\n"
     ]
    },
    {
     "name": "stdout",
     "output_type": "stream",
     "text": [
      "Red Fort\n"
     ]
    }
   ],
   "source": [
    "city_name =input(\"enter your city name\")\n",
    "if city_name ==\"Delhi\":\n",
    "    print(\"Red Fort\")\n",
    "elif city_name==\"Agra\":\n",
    "    print(\"Taj Mahal\")\n",
    "elif city_name==\"Jaipur\":\n",
    "    print(\"Jai Mahal\")"
   ]
  },
  {
   "cell_type": "code",
   "execution_count": 1,
   "id": "8d286e71-8588-48a8-a5b2-6f3fa82ddb06",
   "metadata": {},
   "outputs": [],
   "source": [
    "#4.check how many  times agiven number can be divided by 3 before it is iess than \n",
    "# or equal to 10:"
   ]
  },
  {
   "cell_type": "code",
   "execution_count": 4,
   "id": "7061f4d9-c7af-4cad-933d-a0db8db80eb6",
   "metadata": {},
   "outputs": [],
   "source": [
    "#Q6.Use nested while loop to print 3 different pattern."
   ]
  },
  {
   "cell_type": "code",
   "execution_count": 1,
   "id": "c5c5e2ee-e4f1-44b5-a4ce-faacc3bf4365",
   "metadata": {},
   "outputs": [
    {
     "name": "stdin",
     "output_type": "stream",
     "text": [
      "enter the youer number 10\n"
     ]
    },
    {
     "name": "stdout",
     "output_type": "stream",
     "text": [
      "10987654321"
     ]
    }
   ],
   "source": [
    "#Q7.Reverse a while loop to display numbers from 10 to 1:\n",
    "n = int(input(\"enter the youer number\"))\n",
    "while n>=1:\n",
    "    print(n, end = \"\")\n",
    "    n=n-1"
   ]
  },
  {
   "cell_type": "code",
   "execution_count": null,
   "id": "4b3ddba8-fdaa-48bf-8810-da7ec18ade43",
   "metadata": {},
   "outputs": [],
   "source": []
  }
 ],
 "metadata": {
  "kernelspec": {
   "display_name": "Python 3 (ipykernel)",
   "language": "python",
   "name": "python3"
  },
  "language_info": {
   "codemirror_mode": {
    "name": "ipython",
    "version": 3
   },
   "file_extension": ".py",
   "mimetype": "text/x-python",
   "name": "python",
   "nbconvert_exporter": "python",
   "pygments_lexer": "ipython3",
   "version": "3.10.8"
  }
 },
 "nbformat": 4,
 "nbformat_minor": 5
}
